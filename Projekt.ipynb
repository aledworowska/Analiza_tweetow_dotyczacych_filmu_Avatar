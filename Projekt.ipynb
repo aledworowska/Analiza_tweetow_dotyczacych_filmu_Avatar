{
 "cells": [
  {
   "cell_type": "code",
   "execution_count": 2,
   "id": "08d76bab",
   "metadata": {},
   "outputs": [
    {
     "name": "stdout",
     "output_type": "stream",
     "text": [
      "3.10.7\n"
     ]
    }
   ],
   "source": [
    "from platform import python_version\n",
    "print(python_version())"
   ]
  },
  {
   "cell_type": "code",
   "execution_count": 333,
   "id": "4e63bb46",
   "metadata": {},
   "outputs": [],
   "source": [
    "import snscrape.modules.twitter as sntwitter\n",
    "import pandas as pd\n",
    "from datetime import timedelta, datetime\n",
    "from os.path import exists"
   ]
  },
  {
   "cell_type": "code",
   "execution_count": 336,
   "id": "1775da1a",
   "metadata": {},
   "outputs": [
    {
     "name": "stdout",
     "output_type": "stream",
     "text": [
      "Czesc pierwsza:\n",
      "\n",
      "tweety w jezyku polskim:\n",
      "Czas potrzebny na zebranie tweetow: 0:04:12.506325\n",
      "Liczba zebranych tweetow: 1006\n",
      "\n",
      "tweety w jezyku angielskim:\n",
      "Czas potrzebny na zebranie tweetow: 0:11:26.182143\n",
      "Liczba zebranych tweetow: 11802\n",
      "\n",
      "\n",
      "Czesc druga:\n",
      "\n",
      "tweety w jezyku polskim:\n",
      "Czas potrzebny na zebranie tweetow: 0:06:25.820106\n",
      "Liczba zebranych tweetow: 3251\n",
      "\n",
      "tweety w jezyku angielskim:\n",
      "Czas potrzebny na zebranie tweetow: 0:12:36.527835\n",
      "Liczba zebranych tweetow: 11148\n"
     ]
    }
   ],
   "source": [
    "def twitterScraper(jezyk,od,do,maxTweets,tytul_csv,sumaTweetow):\n",
    "    tweets_list = []\n",
    "    \n",
    "    for i,tweet in enumerate(sntwitter.TwitterSearchScraper('Avatar OR avatar since:\"'+od+'\" until:\"'+do+'\" lang:\"'+jezyk+'\"').get_items()):\n",
    "        if i>maxTweets:\n",
    "            break\n",
    "        if \"avatar\" in tweet.rawContent or \"Avatar\" in tweet.rawContent:\n",
    "            sumaTweetow=sumaTweetow+1\n",
    "            tweets_list.append([tweet.date, tweet.rawContent, tweet.hashtags, tweet.user.username, tweet.user.location, tweet.lang])\n",
    "    \n",
    "    tweets_df = pd.DataFrame(tweets_list, columns=['Datetime', 'Text', 'Hashtags' ,'Username', 'Location', 'Language'])\n",
    "        \n",
    "    if(exists(tytul_csv)==0):\n",
    "        tweets_df.to_csv(tytul_csv, mode='a',sep=',', index=False)\n",
    "    else:\n",
    "        tweets_df.to_csv(tytul_csv, mode='a',sep=',', index=False, header=False)\n",
    "    \n",
    "    return sumaTweetow\n",
    "    \n",
    "def twitterScraperIterator(odData,doData,jezyk,maxTweets,tytul_csv):\n",
    "    czas_start = datetime.now()\n",
    "    sumaTweetow = 0\n",
    "    \n",
    "    while odData != doData:\n",
    "        sumaTweetow = twitterScraper(jezyk,str(odData),str(odData+timedelta(days=1)),maxTweets,tytul_csv,sumaTweetow)\n",
    "        odData += timedelta(days=1)\n",
    "    \n",
    "    czas_stop = datetime.now()\n",
    "    print('Czas potrzebny na zebranie tweetow: {}'.format(czas_stop - czas_start))\n",
    "    print(\"Liczba zebranych tweetow: \"+str(sumaTweetow))\n",
    "    \n",
    "print(\"Czesc pierwsza:\")\n",
    "print(\"\\ntweety w jezyku polskim:\")\n",
    "twitterScraperIterator(datetime(2009,11,25,0,0,0),datetime(2010,1,25,0,0,0),\"pl\",200,\"pierwsza_czesc_pl.csv\")\n",
    "print(\"\\ntweety w jezyku angielskim:\")\n",
    "twitterScraperIterator(datetime(2009,11,10,0,0,0),datetime(2010,1,10,0,0,0),\"en\",200,\"pierwsza_czesc_en.csv\")\n",
    "print(\"\\n\\nCzesc druga:\")\n",
    "print(\"\\ntweety w jezyku polskim:\")\n",
    "twitterScraperIterator(datetime(2022,11,16,0,0,0),datetime(2023,1,10,0,0,0),\"pl\",200,\"druga_czesc_pl.csv\")\n",
    "print(\"\\ntweety w jezyku angielskim:\")\n",
    "twitterScraperIterator(datetime(2022,11,14,0,0,0),datetime(2023,1,10,0,0,0),\"en\",200,\"druga_czesc_en.csv\")"
   ]
  }
 ],
 "metadata": {
  "kernelspec": {
   "display_name": "Python 3 (ipykernel)",
   "language": "python",
   "name": "python3"
  },
  "language_info": {
   "codemirror_mode": {
    "name": "ipython",
    "version": 3
   },
   "file_extension": ".py",
   "mimetype": "text/x-python",
   "name": "python",
   "nbconvert_exporter": "python",
   "pygments_lexer": "ipython3",
   "version": "3.10.7"
  }
 },
 "nbformat": 4,
 "nbformat_minor": 5
}
